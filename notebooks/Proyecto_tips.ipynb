{
 "cells": [
  {
   "cell_type": "markdown",
   "id": "505fc3c5",
   "metadata": {},
   "source": [
    "# **ESTADÍSTICA DESCRIPTIVA**"
   ]
  },
  {
   "cell_type": "markdown",
   "id": "cf5572aa",
   "metadata": {},
   "source": [
    "![udem.png](data:image/png;base64,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)"
   ]
  },
  {
   "cell_type": "markdown",
   "id": "e4e1f8b1",
   "metadata": {},
   "source": [
    "### A continuación realizaremos el Análisis Exploratorio de Datos AED con el fin de validar y verificar la información a través de la estadística descriptiva para posteriormente realizar inferencia sobre la población objetivo.\n",
    "\n",
    "https://www.kaggle.com/datasets/ranjeetjain3/seaborn-tips-dataset\n",
    "\n",
    "Food servers’ tips in restaurants may be influenced by many\n",
    "factors, including the nature of the restaurant, size of the party, and table\n",
    "locations in the restaurant. Restaurant managers need to know which factors\n",
    "matter when they assign tables to food servers. For the sake of staff morale,\n",
    "they usually want to avoid either the substance or the appearance of unfair\n",
    "treatment of the servers, for whom tips (at least in restaurants in the United\n",
    "States) are a major component of pay.\n",
    "In one restaurant, a food server recorded the following data on all cus-\n",
    "tomers they served during an interval of two and a half months in early 1990.\n",
    "The restaurant, located in a suburban shopping mall, was part of a national\n",
    "chain and served a varied menu. In observance of local law, the restaurant\n",
    "offered to seat in a non-smoking section to patrons who requested it. Each\n",
    "record includes a day and time, and taken together, they show the server’s\n",
    "work schedule."
   ]
  },
  {
   "cell_type": "markdown",
   "id": "fbb12e15",
   "metadata": {},
   "source": [
    "#**1. Presentación de los datos**"
   ]
  },
  {
   "cell_type": "markdown",
   "id": "b661b31d",
   "metadata": {},
   "source": [
    "## **About Dataset: Freelancer Earnings and Job Trends Dataset**"
   ]
  },
  {
   "cell_type": "markdown",
   "id": "1bc82461",
   "metadata": {},
   "source": [
    "Este conjunto de datos proporciona información exhaustiva sobre los ingresos de los autónomos y las tendencias laborales en varios sectores y categorías de competencias. Su objetivo es ayudar a las personas que buscan empleo, a los autónomos y a los investigadores a comprender los patrones de remuneración y la demanda en la economía colaborativa.\n",
    "Limpieza y preprocesamiento de datos: Se aplicaron los siguientes pasos de preprocesamiento para garantizar la calidad de los datos:\n",
    "•\tEliminación de entradas duplicadas\n",
    "•\tNormalización de los valores monetarios a USD\n",
    "•\tNormalización de los nombres de las categorías de empleo\n",
    "•\tRelleno de los valores que faltaban utilizando [describa su enfoque]\n",
    "•\tFiltrado de los valores atípicos basándose en [sus criterios]."
   ]
  },
  {
   "cell_type": "markdown",
   "id": "cb3f3507",
   "metadata": {},
   "source": [
    "# **2. Cargar el conjunto de datos**"
   ]
  },
  {
   "cell_type": "code",
   "execution_count": null,
   "id": "4cc8966a",
   "metadata": {
    "vscode": {
     "languageId": "plaintext"
    }
   },
   "outputs": [],
   "source": [
    "from google.colab import drive\n",
    "drive.mount('/content/drive')"
   ]
  },
  {
   "cell_type": "code",
   "execution_count": null,
   "id": "8663868a",
   "metadata": {
    "vscode": {
     "languageId": "plaintext"
    }
   },
   "outputs": [],
   "source": [
    "#Cargando archivo desde el directorio de trabajo\n",
    "from google.colab import files\n",
    "import pandas as pd\n",
    "\n",
    "# Cargar un archivo desde tu dispositivo local\n",
    "Archivo = files.upload()\n",
    "\n",
    "# Obtener la ruta del archivo cargado\n",
    "Ruta = list(Archivo.keys())[0]\n",
    "\n",
    "# Leer el archivo con pandas\n",
    "datos = pd.read_csv(Ruta,sep=',')\n",
    "\n",
    "# Mostrar los 10 primeros registros del DataFrame\n",
    "print()\n",
    "datos.head(10)"
   ]
  },
  {
   "cell_type": "code",
   "execution_count": null,
   "id": "a1d663fc",
   "metadata": {
    "vscode": {
     "languageId": "plaintext"
    }
   },
   "outputs": [],
   "source": [
    "#Cargar las librerías\n",
    "import numpy as np\n",
    "import pandas as pd\n",
    "import matplotlib.pyplot as plt #Graficar\n",
    "%matplotlib inline\n",
    "import seaborn as sns\n",
    "from collections import Counter\n",
    "import math"
   ]
  },
  {
   "cell_type": "code",
   "execution_count": null,
   "id": "1175d0a2",
   "metadata": {
    "vscode": {
     "languageId": "plaintext"
    }
   },
   "outputs": [],
   "source": [
    "#Revisando estructura de los datos\n",
    "datos.info()"
   ]
  },
  {
   "cell_type": "markdown",
   "id": "92d1535a",
   "metadata": {},
   "source": [
    "## **3. Medidas descriptivas**"
   ]
  },
  {
   "cell_type": "code",
   "execution_count": null,
   "id": "b24e3743",
   "metadata": {
    "vscode": {
     "languageId": "plaintext"
    }
   },
   "outputs": [],
   "source": [
    "datos.info()"
   ]
  },
  {
   "cell_type": "code",
   "execution_count": null,
   "id": "2dfc6caa",
   "metadata": {
    "vscode": {
     "languageId": "plaintext"
    }
   },
   "outputs": [],
   "source": [
    "#total_bill\n",
    "\n",
    "#Media\n",
    "media_total_bill =datos['total_bill'].mean()\n",
    "print(\"Media del total de factura pagada:\", media_total_bill)\n",
    "#Mediana\n",
    "mediana_Job_Completed =datos['total_bill'].median()\n",
    "print(f\"Mediana  del total de factura pagada: {mediana_Job_Completed}\")\n",
    "#Moda\n",
    "moda_Job_Completed = datos['total_bill'].mode()\n",
    "print(\"La Moda del total de factura pagada:\", moda_Job_Completed)"
   ]
  },
  {
   "cell_type": "code",
   "execution_count": null,
   "id": "67d8705e",
   "metadata": {
    "vscode": {
     "languageId": "plaintext"
    }
   },
   "outputs": [],
   "source": [
    "#tip\n",
    "\n",
    "#Media\n",
    "media_tip =datos['tip'].mean()\n",
    "print(\"Media de propinas es:\", media_tip)\n",
    "#Mediana\n",
    "mediana_tip =datos['tip'].median()\n",
    "print(f\"Mediana de de propinas es: {mediana_tip}\")\n",
    "#Moda\n",
    "moda_tip = datos['tip'].mode()\n",
    "print(\"La Moda de de propinas es:\", moda_tip)"
   ]
  },
  {
   "cell_type": "code",
   "execution_count": null,
   "id": "9719e40f",
   "metadata": {
    "vscode": {
     "languageId": "plaintext"
    }
   },
   "outputs": [],
   "source": [
    "#size\n",
    "\n",
    "#Media\n",
    "media_size =datos['size'].mean()\n",
    "print(\"Media de tamano de grupo:\", media_size)\n",
    "#Mediana\n",
    "mediana_size =datos['size'].median()\n",
    "print(f\"Mediana tamano de grupo: {mediana_size}\")\n",
    "#Moda\n",
    "moda_size = datos['size'].mode()\n",
    "print(\"La Modatamano de grupo:\", moda_size)"
   ]
  },
  {
   "cell_type": "markdown",
   "id": "5a9672c6",
   "metadata": {},
   "source": [
    "# **3.2 Medidas de variabilidad**"
   ]
  },
  {
   "cell_type": "code",
   "execution_count": null,
   "id": "06398567",
   "metadata": {
    "vscode": {
     "languageId": "plaintext"
    }
   },
   "outputs": [],
   "source": [
    "#total_bill\n",
    "\n",
    "#Varianza\n",
    "varianza_total_bill = datos['total_bill'].var()\n",
    "print(\"La varianza del total de facturación: \", varianza_total_bill)\n",
    "\n",
    "#Desviación estándar\n",
    "desvest_total_bill = np.sqrt(varianza_total_bill)\n",
    "print(\"La desviación estándar del total de facturación:\", desvest_total_bill)\n",
    "\n",
    "#Coeficiente de variación\n",
    "CV_total_bill = (desvest_total_bill / varianza_total_bill) * 100\n",
    "print(\"El coeficiente de variación del total de facturación:\", CV_total_bill)\n",
    "\n",
    "#Rango\n",
    "Rango_total_bill = datos['total_bill'].max() - datos['total_bill'].min()\n",
    "print(\"El rango del total de facturación de:\", Rango_total_bill)"
   ]
  },
  {
   "cell_type": "code",
   "execution_count": null,
   "id": "630987ac",
   "metadata": {
    "vscode": {
     "languageId": "plaintext"
    }
   },
   "outputs": [],
   "source": [
    "#tip\n",
    "\n",
    "#Varianza\n",
    "varianza_tip = datos['tip'].var()\n",
    "print(\"La varianza del total de propinas es: \", varianza_tip)\n",
    "\n",
    "#Desviación estándar\n",
    "desvest_tip = np.sqrt(varianza_tip)\n",
    "print(\"La desviación estándar del total de propinas es:\", desvest_tip)\n",
    "\n",
    "#Coeficiente de variación\n",
    "CV_tip = (desvest_tip / varianza_tip) * 100\n",
    "print(\"El coeficiente de variación del total de propinas es:\", CV_tip)\n",
    "\n",
    "#Rango\n",
    "Rango_tip = datos['tip'].max() - datos['tip'].min()\n",
    "print(\"El rango del total de propinas es:\", Rango_tip)"
   ]
  },
  {
   "cell_type": "code",
   "execution_count": null,
   "id": "2a1bb617",
   "metadata": {
    "vscode": {
     "languageId": "plaintext"
    }
   },
   "outputs": [],
   "source": [
    "#size\n",
    "\n",
    "#Varianza\n",
    "varianza_size = datos['size'].var()\n",
    "print(\"La varianza del tamaño de los grupos es: \", varianza_size)\n",
    "\n",
    "#Desviación estándar\n",
    "desvest_size = np.sqrt(varianza_size)\n",
    "print(\"La desviación estándar del tamaño de los grupos es:\", desvest_size)\n",
    "\n",
    "#Coeficiente de variación\n",
    "CV_size = (desvest_size / varianza_size) * 100\n",
    "print(\"El coeficiente de variación del tamaño de los grupos es:\", CV_size)\n",
    "\n",
    "#Rango\n",
    "Rango_size = datos['size'].max() - datos['size'].min()\n",
    "print(\"El rango del tamaño de los grupos es:\", Rango_size)"
   ]
  },
  {
   "cell_type": "markdown",
   "id": "aacff20d",
   "metadata": {},
   "source": [
    "# **3.3 Medidas de forma**"
   ]
  },
  {
   "cell_type": "code",
   "execution_count": null,
   "id": "79c6a7bf",
   "metadata": {
    "vscode": {
     "languageId": "plaintext"
    }
   },
   "outputs": [],
   "source": [
    "#total_bill\n",
    "\n",
    "#Coeficiente de Asimetría\n",
    "Asimetria_total_bill = datos['total_bill'].skew()\n",
    "print(\"El coeficiente de asimetría del total de facturación es:\", Asimetria_total_bill)\n",
    "\n",
    "#Coeficiente de Kurtosis\n",
    "Kurtosis_total_bill = datos['total_bill'].kurt()\n",
    "print(\"El coeficiente de kurtosis del total de facturación es:\", Kurtosis_total_bill)"
   ]
  },
  {
   "cell_type": "code",
   "execution_count": null,
   "id": "04eaaf22",
   "metadata": {
    "vscode": {
     "languageId": "plaintext"
    }
   },
   "outputs": [],
   "source": [
    "#tip\n",
    "\n",
    "#Coeficiente de Asimetría\n",
    "Asimetria_tip = datos['tip'].skew()\n",
    "print(\"El coeficiente de asimetría del total de propinas es:\", Asimetria_tip)\n",
    "\n",
    "#Coeficiente de Kurtosis\n",
    "Kurtosis_tip = datos['tip'].kurt()\n",
    "print(\"El coeficiente de kurtosis del total de propinas es:\", Kurtosis_tip)"
   ]
  },
  {
   "cell_type": "code",
   "execution_count": null,
   "id": "b279e6fd",
   "metadata": {
    "vscode": {
     "languageId": "plaintext"
    }
   },
   "outputs": [],
   "source": [
    "#size\n",
    "\n",
    "#Coeficiente de Asimetría\n",
    "Asimetria_size = datos['size'].skew()\n",
    "print(\"El coeficiente de asimetría del tamaño de los grupos es:\", Asimetria_size)\n",
    "\n",
    "#Coeficiente de Kurtosis\n",
    "Kurtosis_size = datos['size'].kurt()\n",
    "print(\"El coeficiente de kurtosis del tamaño de los grupos es:\", Kurtosis_size)"
   ]
  },
  {
   "cell_type": "markdown",
   "id": "6977eb05",
   "metadata": {},
   "source": [
    "# **3.4 Medidas de posición**"
   ]
  },
  {
   "cell_type": "code",
   "execution_count": null,
   "id": "a03e150a",
   "metadata": {
    "vscode": {
     "languageId": "plaintext"
    }
   },
   "outputs": [],
   "source": [
    "#total_bill\n",
    "\n",
    "#Tercios\n",
    "Q1_total_bill = np.percentile(datos['total_bill'], 33)\n",
    "Q2_total_bill = np.percentile(datos['total_bill'], 66)\n",
    "print(Q1_total_bill, Q2_total_bill)\n",
    "print(\"El 33% del total de facturación es menor o igual a:\", Q1_total_bill)\n",
    "print(\"El 66% del total de facturación es menor o igual a:\", Q2_total_bill)"
   ]
  },
  {
   "cell_type": "code",
   "execution_count": null,
   "id": "6432a517",
   "metadata": {
    "vscode": {
     "languageId": "plaintext"
    }
   },
   "outputs": [],
   "source": [
    "#tip\n",
    "\n",
    "#Tercios\n",
    "Q1_tip = np.percentile(datos['tip'], 33)\n",
    "Q2_tip = np.percentile(datos['tip'], 66)\n",
    "print(Q1_tip, Q2_tip)\n",
    "print(\"El 33% del total de propinas es menor o igual a:\", Q1_tip)\n",
    "print(\"El 66% del total de propinas es menor o igual a:\", Q2_tip)"
   ]
  },
  {
   "cell_type": "code",
   "execution_count": null,
   "id": "3bf67966",
   "metadata": {
    "vscode": {
     "languageId": "plaintext"
    }
   },
   "outputs": [],
   "source": [
    "#size\n",
    "\n",
    "#Tercios\n",
    "Q1_size = np.percentile(datos['size'], 33)\n",
    "Q2_size = np.percentile(datos['size'], 66)\n",
    "print(Q1_size, Q2_size)\n",
    "print(\"El 33% del tamaño de los grupos es menor o igual a:\", Q1_size)\n",
    "print(\"El 66% del tamaño de los grupos es menor o igual a:\", Q2_size)"
   ]
  },
  {
   "cell_type": "code",
   "execution_count": null,
   "id": "2a5e12a7",
   "metadata": {
    "vscode": {
     "languageId": "plaintext"
    }
   },
   "outputs": [],
   "source": [
    "#total_bill\n",
    "\n",
    "#Quintiles\n",
    "Q1_total_bill = np.percentile(datos['total_bill'], 20)\n",
    "Q2_total_bill = np.percentile(datos['total_bill'], 40)\n",
    "Q3_total_bill = np.percentile(datos['total_bill'], 60)\n",
    "Q4_total_bill = np.percentile(datos['total_bill'], 80)\n",
    "print(Q1_total_bill, Q2_total_bill, Q3_total_bill, Q4_total_bill)\n",
    "print(\"El 20% del total de facturación es menor o igual a:\", Q1_total_bill)\n",
    "print(\"El 40% del total de facturación es menor o igual a:\", Q2_total_bill)\n",
    "print(\"El 60% del total de facturación es menor o igual a:\", Q3_total_bill)\n",
    "print(\"El 80% del total de facturación es menor o igual a:\", Q4_total_bill)"
   ]
  },
  {
   "cell_type": "code",
   "execution_count": null,
   "id": "15feb4a7",
   "metadata": {
    "vscode": {
     "languageId": "plaintext"
    }
   },
   "outputs": [],
   "source": [
    "#tip\n",
    "\n",
    "#Quintiles\n",
    "Q1_tip = np.percentile(datos['tip'], 20)\n",
    "Q2_tip = np.percentile(datos['tip'], 40)\n",
    "Q3_tip = np.percentile(datos['tip'], 60)\n",
    "Q4_tip = np.percentile(datos['tip'], 80)\n",
    "print(Q1_tip, Q2_tip, Q3_tip, Q4_tip)\n",
    "print(\"El 20% del total de propinas es menor o igual a:\", Q1_tip)\n",
    "print(\"El 40% del total de propinas es menor o igual a:\", Q2_tip)\n",
    "print(\"El 60% del total de propinas es menor o igual a:\", Q3_tip)\n",
    "print(\"El 80% del total de propinas es menor o igual a:\", Q4_tip)"
   ]
  },
  {
   "cell_type": "code",
   "execution_count": null,
   "id": "e2d546cc",
   "metadata": {
    "vscode": {
     "languageId": "plaintext"
    }
   },
   "outputs": [],
   "source": [
    "#size\n",
    "\n",
    "#Quintiles\n",
    "Q1_size = np.percentile(datos['size'], 20)\n",
    "Q2_size = np.percentile(datos['size'], 40)\n",
    "Q3_size = np.percentile(datos['size'], 60)\n",
    "Q4_size = np.percentile(datos['size'], 80)\n",
    "print(Q1_size, Q2_size, Q3_size, Q4_size)\n",
    "print(\"El 20% del tamaño de los grupos es menor o igual a:\", Q1_size)\n",
    "print(\"El 40% del tamaño de los grupos es menor o igual a:\", Q2_size)\n",
    "print(\"El 60% del tamaño de los grupos es menor o igual a:\", Q3_size)\n",
    "print(\"El 80% del tamaño de los grupos es menor o igual a:\", Q4_size)"
   ]
  },
  {
   "cell_type": "code",
   "execution_count": null,
   "id": "ddcb3c37",
   "metadata": {
    "vscode": {
     "languageId": "plaintext"
    }
   },
   "outputs": [],
   "source": [
    "#Realizando una descripción rápida de las variables numéricas\n",
    "datos.describe()"
   ]
  }
 ],
 "metadata": {
  "language_info": {
   "name": "python"
  }
 },
 "nbformat": 4,
 "nbformat_minor": 5
}
